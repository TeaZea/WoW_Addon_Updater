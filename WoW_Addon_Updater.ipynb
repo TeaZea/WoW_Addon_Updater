{
 "cells": [
  {
   "cell_type": "code",
   "execution_count": 15,
   "id": "26166d58",
   "metadata": {},
   "outputs": [
    {
     "name": "stdout",
     "output_type": "stream",
     "text": [
      "DBM-9.2.30.zip\n",
      "Anaconda3-2022.05-Linux-x86_64.sh\n"
     ]
    }
   ],
   "source": [
    "# Access files in DL Folder\n",
    "import os\n",
    "\n",
    "source_dir = \"/home/stefano/Downloads\"\n",
    "\n",
    "with os.scandir(source_dir) as entries:\n",
    "    for entry in entries:\n",
    "        print(entry.name)"
   ]
  },
  {
   "cell_type": "code",
   "execution_count": 16,
   "id": "68d0e8d8",
   "metadata": {},
   "outputs": [],
   "source": [
    "# Unzip .zip files\n",
    "import zipfile\n",
    "\n",
    "with zipfile.ZipFile(\"/home/stefano/Downloads/DBM-9.2.30.zip\", 'r') as zip_ref:\n",
    "    zip_ref.extractall(\"/home/stefano/WOWTEST/UI/ADDON\")"
   ]
  },
  {
   "cell_type": "code",
   "execution_count": 17,
   "id": "3fd6cec9",
   "metadata": {},
   "outputs": [],
   "source": [
    "# Remove the file\n",
    "\n",
    "file_to_del = \"/home/stefano/Downloads/DBM-9.2.30.zip\"\n",
    "\n",
    "os.remove(file_to_del)"
   ]
  },
  {
   "cell_type": "code",
   "execution_count": null,
   "id": "e9782eb3",
   "metadata": {},
   "outputs": [],
   "source": []
  },
  {
   "cell_type": "code",
   "execution_count": null,
   "id": "10cdbf0b",
   "metadata": {},
   "outputs": [],
   "source": []
  },
  {
   "cell_type": "code",
   "execution_count": null,
   "id": "21bb1a06",
   "metadata": {},
   "outputs": [],
   "source": [
    "# Need to use RegEx to find anything in the downloads folder that's a zip to unzip all automatically"
   ]
  }
 ],
 "metadata": {
  "kernelspec": {
   "display_name": "Python 3 (ipykernel)",
   "language": "python",
   "name": "python3"
  },
  "language_info": {
   "codemirror_mode": {
    "name": "ipython",
    "version": 3
   },
   "file_extension": ".py",
   "mimetype": "text/x-python",
   "name": "python",
   "nbconvert_exporter": "python",
   "pygments_lexer": "ipython3",
   "version": "3.9.12"
  }
 },
 "nbformat": 4,
 "nbformat_minor": 5
}
